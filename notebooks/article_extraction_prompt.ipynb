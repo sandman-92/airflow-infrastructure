{
 "cells": [
  {
   "metadata": {
    "ExecuteTime": {
     "end_time": "2025-08-09T12:28:14.321499Z",
     "start_time": "2025-08-09T12:28:14.318254Z"
    }
   },
   "cell_type": "code",
   "source": "# Notebook is used to test an analysis system prompt",
   "id": "1f8ea7e4f452257c",
   "outputs": [],
   "execution_count": 29
  },
  {
   "metadata": {
    "collapsed": true,
    "ExecuteTime": {
     "end_time": "2025-08-09T12:28:14.340803Z",
     "start_time": "2025-08-09T12:28:14.333020Z"
    }
   },
   "cell_type": "code",
   "source": [
    "import dotenv\n",
    "import os\n",
    "from openai import OpenAI\n",
    "import json\n",
    "dotenv.load_dotenv(\"../.env\")\n",
    "\n",
    "import sys\n",
    "from pathlib import Path\n",
    "\n",
    "try:\n",
    "    # Works when running as a script/module\n",
    "    current_dir = Path(__file__).resolve().parent\n",
    "except NameError:\n",
    "    # Works in Jupyter/interactive\n",
    "    current_dir = Path.cwd()\n",
    "\n",
    "# Adjust the parent() calls to reach your project root as needed\n",
    "project_root = current_dir.parent\n",
    "sys.path.append(str(project_root))\n",
    "\n",
    "from dags.gpt_prompts.analysis_prompt import system_prompt\n"
   ],
   "id": "44b447860d0c26fc",
   "outputs": [],
   "execution_count": 30
  },
  {
   "metadata": {
    "ExecuteTime": {
     "end_time": "2025-08-09T12:28:14.430049Z",
     "start_time": "2025-08-09T12:28:14.386009Z"
    }
   },
   "cell_type": "code",
   "source": "client = OpenAI(api_key=os.getenv(\"OPENAI_API_KEY\"))",
   "id": "16d2bc63e1beabf3",
   "outputs": [],
   "execution_count": 31
  },
  {
   "metadata": {
    "ExecuteTime": {
     "end_time": "2025-08-09T12:28:14.505442Z",
     "start_time": "2025-08-09T12:28:14.501157Z"
    }
   },
   "cell_type": "code",
   "source": [
    "article_text = \"\"\"\n",
    "Aug. 7, 2025 11:49 am by The Right Scoop\n",
    "\n",
    "CNN is reporting that the FBI is now firing both senior officials and agents who opposed President Trump in the past, and that includes the former acting FBI Director who didn’t want the agency to reveal the names of agents who worked on the J6 cases.\n",
    "\n",
    "Here’s more:\n",
    "\n",
    "    Two senior FBI officials, including one who initially resisted the Trump administration’s effort to gather the names of agents who worked on cases related to the US Capitol attack on January 6, 2021, are being fired, multiple sources tell CNN.\n",
    "\n",
    "    Brian Driscoll, who was acting FBI director in the weeks before now-Director Kash Patel was confirmed, is being dismissed, sources said. Steve Jensen, the acting director in charge of the Washington Field Office, is also being fired, according to two separate sources.\n",
    "\n",
    "    The administration is also firing other agents in the bureau this week who were perceived to be opposed to Trump in the past, according to three sources familiar with the agency’s actions.\n",
    "\n",
    "    The FBI and its Washington field office declined to comment. CNN has reached out to the New York field office for comment.\n",
    "\n",
    "I believe I read earlier this year that a new administration must wait around six months before they can fire employees, which is why they began firing probationary employees first. I’m guessing this is why these officials and agents are only now getting the boot.\n",
    "\n",
    "But kudos to Director Patel for doing this, because it must be done.\n",
    "\n",
    "\"\"\""
   ],
   "id": "5bac0a2159bc4f10",
   "outputs": [],
   "execution_count": 33
  },
  {
   "metadata": {
    "ExecuteTime": {
     "end_time": "2025-08-09T12:29:00.248493Z",
     "start_time": "2025-08-09T12:28:14.551686Z"
    }
   },
   "cell_type": "code",
   "source": [
    "response = client.chat.completions.create(\n",
    "    model= \"gpt-5-mini\",\n",
    "    messages=[\n",
    "        {\"role\": \"system\", \"content\": system_prompt},\n",
    "        {\"role\": \"user\", \"content\": article_text}\n",
    "    ]\n",
    ")"
   ],
   "id": "26a511add11e3aa0",
   "outputs": [],
   "execution_count": 34
  },
  {
   "metadata": {
    "ExecuteTime": {
     "end_time": "2025-08-09T12:29:00.307183Z",
     "start_time": "2025-08-09T12:29:00.301840Z"
    }
   },
   "cell_type": "code",
   "source": [
    "response_dict = response.model_dump()\n",
    "content = response_dict['choices'][0]['message']['content']\n",
    "\n",
    "content"
   ],
   "id": "6538c80ed9f20465",
   "outputs": [
    {
     "data": {
      "text/plain": [
       "'{\\n  \"facts\": [\\n    {\\n      \"fact\": \"CNN Reported FBI Is Firing Senior Officials And Agents United States 2025-08-07\",\\n      \"datetime\": \"2025-08-07\",\\n      \"location\": \"United States\",\\n      \"bias_analysis\": \"The claim is attributed to CNN and unnamed sources; the phrasing frames the personnel actions as politically targeted against those who opposed President Trump.\",\\n      \"bias_indicators\": \"\\'CNN is reporting\\'; \\'opposed President Trump\\'; \\'multiple sources tell CNN\\'\"\\n    },\\n    {\\n      \"fact\": \"Brian Driscoll Is Being Dismissed Acting FBI Director United States 2025-08-07\",\\n      \"datetime\": \"2025-08-07\",\\n      \"location\": \"United States\",\\n      \"bias_analysis\": \"Reported attribution to sources; article highlights Driscoll\\'s prior resistance to revealing J6 agent names, which frames his dismissal in a specific context.\",\\n      \"bias_indicators\": \"\\'is being dismissed\\'; \\'who initially resisted\\'; \\'sources said\\'\"\\n    },\\n    {\\n      \"fact\": \"Brian Driscoll Was Acting FBI Director Weeks Before Kash Patel Confirmation United States 2025-08-07\",\\n      \"datetime\": \"2025-08-07\",\\n      \"location\": \"United States\",\\n      \"bias_analysis\": \"Contextual factual statement about Driscoll\\'s recent role; presented as background.\",\\n      \"bias_indicators\": \"\\'acting FBI director\\'; \\'weeks before now-Director Kash Patel was confirmed\\'\"\\n    },\\n    {\\n      \"fact\": \"Steve Jensen Is Being Fired Acting Director In Charge Of The Washington Field Office United States 2025-08-07\",\\n      \"datetime\": \"2025-08-07\",\\n      \"location\": \"United States\",\\n      \"bias_analysis\": \"Attributed to two separate sources; the article emphasizes his position in the Washington field office while reporting the dismissal.\",\\n      \"bias_indicators\": \"\\'is also being fired\\'; \\'two separate sources\\'; \\'acting director in charge of the Washington Field Office\\'\"\\n    },\\n    {\\n      \"fact\": \"Administration Is Firing Other Agents Perceived To Be Opposed To Trump United States 2025-08-07\",\\n      \"datetime\": \"2025-08-07\",\\n      \"location\": \"United States\",\\n      \"bias_analysis\": \"Attributed to three unnamed sources; the phrase \\'perceived to be opposed to Trump\\' frames the firings as politically motivated rather than administrative or performance-based.\",\\n      \"bias_indicators\": \"\\'perceived to be opposed to Trump\\'; \\'three sources familiar with the agency\\'s actions\\'\"\\n    },\\n    {\\n      \"fact\": \"FBI Declined To Comment United States 2025-08-07\",\\n      \"datetime\": \"2025-08-07\",\\n      \"location\": \"United States\",\\n      \"bias_analysis\": \"Neutral reporting that the FBI did not provide comment.\",\\n      \"bias_indicators\": \"\\'declined to comment\\'\"\\n    },\\n    {\\n      \"fact\": \"Washington Field Office Declined To Comment Washington 2025-08-07\",\\n      \"datetime\": \"2025-08-07\",\\n      \"location\": \"Washington\",\\n      \"bias_analysis\": \"Neutral reporting that the Washington field office did not provide comment.\",\\n      \"bias_indicators\": \"\\'declined to comment\\'\"\\n    },\\n    {\\n      \"fact\": \"CNN Reached Out To New York Field Office For Comment United States 2025-08-07\",\\n      \"datetime\": \"2025-08-07\",\\n      \"location\": \"United States\",\\n      \"bias_analysis\": \"Neutral factual note that CNN sought comment from the New York field office.\",\\n      \"bias_indicators\": \"\\'has reached out to the New York field office for comment\\'\"\\n    }\\n  ],\\n  \"type\": \"Opinion\",\\n  \"topic\": \"Politics\",\\n  \"publish_date\": \"2025-08-07\",\\n  \"source\": \"The Right Scoop\",\\n  \"summary\": \"The Right Scoop article (Aug. 7, 2025) relays CNN reporting that the FBI is firing senior officials and agents perceived to have opposed President Trump, naming Brian Driscoll and Steve Jensen among those dismissed, noting the FBI and its Washington field office declined to comment and that CNN sought comment from the New York field office. The piece includes the author\\'s approval of the dismissals.\",\\n  \"bias_analysis\": \"The article republishes CNN claims based on unnamed sources and presents them within an opinionated frame, including explicit praise for the director\\'s actions. Reliance on anonymous sources via another outlet and the author\\'s congratulatory language indicate a partisan perspective.\",\\n  \"bias_indicators\": [\\n    \"\\'CNN is reporting\\'\",\\n    \"\\'opposed President Trump\\'\",\\n    \"\\'multiple sources tell CNN\\'\",\\n    \"\\'kudos to Director Patel\\'\",\\n    \"\\'must be done\\'\"\\n  ],\\n  \"keywords\": [\\n    \"FBI Firings\",\\n    \"Brian Driscoll\",\\n    \"Steve Jensen\",\\n    \"Kash Patel\",\\n    \"CNN Report\"\\n  ],\\n  \"keyword_summaries\": {\\n    \"FBI Firings\": \"Central claim that senior officials and other agents are being dismissed, attributed to CNN and unnamed sources.\",\\n    \"Brian Driscoll\": \"Named as being dismissed; noted he was acting FBI director shortly before Kash Patel\\'s confirmation and had resisted revealing J6 agent names.\",\\n    \"Steve Jensen\": \"Named as being fired; described as acting director in charge of the Washington Field Office.\",\\n    \"Kash Patel\": \"Referenced as the now-Director whose confirmation preceded Driscoll\\'s acting tenure; author praises Patel\\'s actions.\",\\n    \"CNN Report\": \"The Right Scoop article relies on CNN reporting and its cited unnamed sources for the main assertions.\"\\n  }\\n}'"
      ]
     },
     "execution_count": 35,
     "metadata": {},
     "output_type": "execute_result"
    }
   ],
   "execution_count": 35
  },
  {
   "metadata": {
    "ExecuteTime": {
     "end_time": "2025-08-09T12:29:00.363892Z",
     "start_time": "2025-08-09T12:29:00.359250Z"
    }
   },
   "cell_type": "code",
   "source": [
    "# Parse content string as JSON\n",
    "parsed_json = json.loads(content)\n",
    "\n",
    "# Pretty-print it\n",
    "print(json.dumps(parsed_json, indent=2))"
   ],
   "id": "d901d8d3fe4f28c4",
   "outputs": [
    {
     "name": "stdout",
     "output_type": "stream",
     "text": [
      "{\n",
      "  \"facts\": [\n",
      "    {\n",
      "      \"fact\": \"CNN Reported FBI Is Firing Senior Officials And Agents United States 2025-08-07\",\n",
      "      \"datetime\": \"2025-08-07\",\n",
      "      \"location\": \"United States\",\n",
      "      \"bias_analysis\": \"The claim is attributed to CNN and unnamed sources; the phrasing frames the personnel actions as politically targeted against those who opposed President Trump.\",\n",
      "      \"bias_indicators\": \"'CNN is reporting'; 'opposed President Trump'; 'multiple sources tell CNN'\"\n",
      "    },\n",
      "    {\n",
      "      \"fact\": \"Brian Driscoll Is Being Dismissed Acting FBI Director United States 2025-08-07\",\n",
      "      \"datetime\": \"2025-08-07\",\n",
      "      \"location\": \"United States\",\n",
      "      \"bias_analysis\": \"Reported attribution to sources; article highlights Driscoll's prior resistance to revealing J6 agent names, which frames his dismissal in a specific context.\",\n",
      "      \"bias_indicators\": \"'is being dismissed'; 'who initially resisted'; 'sources said'\"\n",
      "    },\n",
      "    {\n",
      "      \"fact\": \"Brian Driscoll Was Acting FBI Director Weeks Before Kash Patel Confirmation United States 2025-08-07\",\n",
      "      \"datetime\": \"2025-08-07\",\n",
      "      \"location\": \"United States\",\n",
      "      \"bias_analysis\": \"Contextual factual statement about Driscoll's recent role; presented as background.\",\n",
      "      \"bias_indicators\": \"'acting FBI director'; 'weeks before now-Director Kash Patel was confirmed'\"\n",
      "    },\n",
      "    {\n",
      "      \"fact\": \"Steve Jensen Is Being Fired Acting Director In Charge Of The Washington Field Office United States 2025-08-07\",\n",
      "      \"datetime\": \"2025-08-07\",\n",
      "      \"location\": \"United States\",\n",
      "      \"bias_analysis\": \"Attributed to two separate sources; the article emphasizes his position in the Washington field office while reporting the dismissal.\",\n",
      "      \"bias_indicators\": \"'is also being fired'; 'two separate sources'; 'acting director in charge of the Washington Field Office'\"\n",
      "    },\n",
      "    {\n",
      "      \"fact\": \"Administration Is Firing Other Agents Perceived To Be Opposed To Trump United States 2025-08-07\",\n",
      "      \"datetime\": \"2025-08-07\",\n",
      "      \"location\": \"United States\",\n",
      "      \"bias_analysis\": \"Attributed to three unnamed sources; the phrase 'perceived to be opposed to Trump' frames the firings as politically motivated rather than administrative or performance-based.\",\n",
      "      \"bias_indicators\": \"'perceived to be opposed to Trump'; 'three sources familiar with the agency's actions'\"\n",
      "    },\n",
      "    {\n",
      "      \"fact\": \"FBI Declined To Comment United States 2025-08-07\",\n",
      "      \"datetime\": \"2025-08-07\",\n",
      "      \"location\": \"United States\",\n",
      "      \"bias_analysis\": \"Neutral reporting that the FBI did not provide comment.\",\n",
      "      \"bias_indicators\": \"'declined to comment'\"\n",
      "    },\n",
      "    {\n",
      "      \"fact\": \"Washington Field Office Declined To Comment Washington 2025-08-07\",\n",
      "      \"datetime\": \"2025-08-07\",\n",
      "      \"location\": \"Washington\",\n",
      "      \"bias_analysis\": \"Neutral reporting that the Washington field office did not provide comment.\",\n",
      "      \"bias_indicators\": \"'declined to comment'\"\n",
      "    },\n",
      "    {\n",
      "      \"fact\": \"CNN Reached Out To New York Field Office For Comment United States 2025-08-07\",\n",
      "      \"datetime\": \"2025-08-07\",\n",
      "      \"location\": \"United States\",\n",
      "      \"bias_analysis\": \"Neutral factual note that CNN sought comment from the New York field office.\",\n",
      "      \"bias_indicators\": \"'has reached out to the New York field office for comment'\"\n",
      "    }\n",
      "  ],\n",
      "  \"type\": \"Opinion\",\n",
      "  \"topic\": \"Politics\",\n",
      "  \"publish_date\": \"2025-08-07\",\n",
      "  \"source\": \"The Right Scoop\",\n",
      "  \"summary\": \"The Right Scoop article (Aug. 7, 2025) relays CNN reporting that the FBI is firing senior officials and agents perceived to have opposed President Trump, naming Brian Driscoll and Steve Jensen among those dismissed, noting the FBI and its Washington field office declined to comment and that CNN sought comment from the New York field office. The piece includes the author's approval of the dismissals.\",\n",
      "  \"bias_analysis\": \"The article republishes CNN claims based on unnamed sources and presents them within an opinionated frame, including explicit praise for the director's actions. Reliance on anonymous sources via another outlet and the author's congratulatory language indicate a partisan perspective.\",\n",
      "  \"bias_indicators\": [\n",
      "    \"'CNN is reporting'\",\n",
      "    \"'opposed President Trump'\",\n",
      "    \"'multiple sources tell CNN'\",\n",
      "    \"'kudos to Director Patel'\",\n",
      "    \"'must be done'\"\n",
      "  ],\n",
      "  \"keywords\": [\n",
      "    \"FBI Firings\",\n",
      "    \"Brian Driscoll\",\n",
      "    \"Steve Jensen\",\n",
      "    \"Kash Patel\",\n",
      "    \"CNN Report\"\n",
      "  ],\n",
      "  \"keyword_summaries\": {\n",
      "    \"FBI Firings\": \"Central claim that senior officials and other agents are being dismissed, attributed to CNN and unnamed sources.\",\n",
      "    \"Brian Driscoll\": \"Named as being dismissed; noted he was acting FBI director shortly before Kash Patel's confirmation and had resisted revealing J6 agent names.\",\n",
      "    \"Steve Jensen\": \"Named as being fired; described as acting director in charge of the Washington Field Office.\",\n",
      "    \"Kash Patel\": \"Referenced as the now-Director whose confirmation preceded Driscoll's acting tenure; author praises Patel's actions.\",\n",
      "    \"CNN Report\": \"The Right Scoop article relies on CNN reporting and its cited unnamed sources for the main assertions.\"\n",
      "  }\n",
      "}\n"
     ]
    }
   ],
   "execution_count": 36
  },
  {
   "metadata": {
    "ExecuteTime": {
     "end_time": "2025-08-09T12:29:00.416755Z",
     "start_time": "2025-08-09T12:29:00.413804Z"
    }
   },
   "cell_type": "code",
   "source": "",
   "id": "d38cb37f99a36acb",
   "outputs": [],
   "execution_count": null
  }
 ],
 "metadata": {
  "kernelspec": {
   "display_name": "Python 3",
   "language": "python",
   "name": "python3"
  },
  "language_info": {
   "codemirror_mode": {
    "name": "ipython",
    "version": 2
   },
   "file_extension": ".py",
   "mimetype": "text/x-python",
   "name": "python",
   "nbconvert_exporter": "python",
   "pygments_lexer": "ipython2",
   "version": "2.7.6"
  }
 },
 "nbformat": 4,
 "nbformat_minor": 5
}
