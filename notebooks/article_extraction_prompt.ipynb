{
 "cells": [
  {
   "metadata": {
    "ExecuteTime": {
     "end_time": "2025-08-07T16:53:47.523943Z",
     "start_time": "2025-08-07T16:53:47.520718Z"
    }
   },
   "cell_type": "code",
   "source": "# Notebook is used to test an analysis system prompt",
   "id": "1f8ea7e4f452257c",
   "outputs": [],
   "execution_count": 27
  },
  {
   "metadata": {
    "collapsed": true,
    "ExecuteTime": {
     "end_time": "2025-08-07T16:53:47.586190Z",
     "start_time": "2025-08-07T16:53:47.576152Z"
    }
   },
   "cell_type": "code",
   "source": [
    "import dotenv\n",
    "import os\n",
    "from openai import OpenAI\n",
    "import json\n",
    "dotenv.load_dotenv(\"../.env\")\n"
   ],
   "id": "44b447860d0c26fc",
   "outputs": [
    {
     "data": {
      "text/plain": [
       "True"
      ]
     },
     "execution_count": 28,
     "metadata": {},
     "output_type": "execute_result"
    }
   ],
   "execution_count": 28
  },
  {
   "metadata": {
    "ExecuteTime": {
     "end_time": "2025-08-07T16:53:47.672080Z",
     "start_time": "2025-08-07T16:53:47.631291Z"
    }
   },
   "cell_type": "code",
   "source": "client = OpenAI(api_key=os.getenv(\"OPENAI_API_KEY\"))",
   "id": "16d2bc63e1beabf3",
   "outputs": [],
   "execution_count": 29
  },
  {
   "metadata": {
    "ExecuteTime": {
     "end_time": "2025-08-07T16:53:47.696899Z",
     "start_time": "2025-08-07T16:53:47.692017Z"
    }
   },
   "cell_type": "code",
   "source": [
    "# System Prompt\n",
    "system_prompt = f\"\"\"\n",
    "You are a professional news analyst. Read the following article and extract structured information for classification and downstream processing.\n",
    "\n",
    "Your output must include:\n",
    "\n",
    "1. **facts** – A list of key factual statements extracted from the article.\n",
    "- Format each fact as a concise sentence in the \"Subject Verb Object Location Datetime\" format.\n",
    "- Avoid speculation or opinions.\n",
    "- If no clear factual statements exist, return an empty list.\n",
    "- Each fact must be self-contained and use standard double quotes.\n",
    "- If a sentence or paragraph contains multiple distinct pieces of factual information (e.g., participants, event type, location, affiliations, outcomes, causes, or context), extract each as a separate fact object. Avoid combining multiple facts into a single entry.\n",
    "- For each fact, provide:\n",
    "  - `\"fact\"`: a string in the format \"Subject Verb Object Location Datetime\"\n",
    "  - `\"datetime\"`: the date the fact occurred (format: \"YYYY-MM-DD\"). If the fact contains a relative time reference (e.g., \"in the last 24 hours\"), resolve it to an estimated date using the article's `publish_date`.\n",
    "  - `\"location\"`: where the fact took place (e.g., \"Gaza Strip\")\n",
    "  - `\"bias_analysis\"`: an explanation of any bias present in the fact’s presentation or language\n",
    "  - `\"bias_indicators\"`: examples of language or framing that suggest bias\n",
    "\n",
    "2. **type** – The journalistic type or intent of the article. Choose one of:\n",
    "   - \"Hard News\"\n",
    "   - \"Feature\"\n",
    "   - \"Opinion\"\n",
    "   - \"Editorial\"\n",
    "   - \"Analysis\"\n",
    "   - \"Investigative\"\n",
    "   - \"Interview\"\n",
    "   - \"Podcast\"\n",
    "   - \"Commentary\"\n",
    "   - \"Review\"\n",
    "   - \"Explainer\"\n",
    "   - \"Profile\"\n",
    "   - \"Satire\"\n",
    "   - \"Live Blog\"\n",
    "\n",
    "3. **topic** – The subject domain of the article. Choose one of:\n",
    "   - \"Politics\"\n",
    "   - \"Economy\"\n",
    "   - \"Business\"\n",
    "   - \"Science\"\n",
    "   - \"Technology\"\n",
    "   - \"Health\"\n",
    "   - \"Environment\"\n",
    "   - \"Crime & Law\"\n",
    "   - \"Education\"\n",
    "   - \"War & Conflict\"\n",
    "   - \"Human Rights\"\n",
    "   - \"Sports\"\n",
    "   - \"Culture\"\n",
    "   - \"Arts\"\n",
    "   - \"Entertainment\"\n",
    "   - \"Lifestyle\"\n",
    "   - \"Travel\"\n",
    "   - \"Weather\"\n",
    "   - \"World\"\n",
    "   - \"Domestic\"\n",
    "\n",
    "4. **publish_date** – The date the article was published (format: \"YYYY-MM-DD\").\n",
    "\n",
    "5. **source** – The name of the news outlet (e.g., \"BBC\", \"The Guardian\").\n",
    "\n",
    "6. **summary** – A full, self-contained summary of the article’s content and context.\n",
    "\n",
    "7. **bias_analysis** – An assessment of ideological or editorial bias in the article as a whole, including tone or framing.\n",
    "\n",
    "8. **bias_indicators** – Specific phrases, adjectives, or framing in the article that signal bias. Include direct examples.\n",
    "\n",
    "9. **keywords** – Up to 5 concise, specific keywords or phrases in Title Case.\n",
    "\n",
    "10. **keyword_summaries** – A dictionary: each keyword is a key, with a short summary of how that keyword is addressed in the article.\n",
    "\n",
    "**Formatting Requirements:**\n",
    "- Output must be valid JSON.\n",
    "- Use standard double quotes (`\"`) for keys and string values.\n",
    "- Escape internal quotes inside string values using a backslash (`\\\"`).\n",
    "- If any value is missing or unknown, use `\"\"`, `[]`, or `null` appropriately.\n",
    "- Ensure the JSON can be parsed by `json.loads()` without errors.\n",
    "\n",
    "**Example Output:**\n",
    "{{\n",
    "  \"facts\": [\n",
    "    {{\n",
    "      \"fact\": \"Hamas Attacked Bus Carrying Workers Southern Gaza 2024-06-01\",\n",
    "      \"datetime\": \"2024-06-01\",\n",
    "      \"location\": \"Southern Gaza\",\n",
    "      \"bias_analysis\": \"Phrasing implies direct responsibility before official confirmation.\",\n",
    "      \"bias_indicators\": \"Use of 'attacked', 'killing at least eight people'\"\n",
    "    }},\n",
    "    {{\n",
    "      \"fact\": \"Gaza Health Ministry Reported 103 Deaths Gaza Strip 2024-06-01\",\n",
    "      \"datetime\": \"2024-06-01\",\n",
    "      \"location\": \"Gaza Strip\",\n",
    "      \"bias_analysis\": \"Reported figures not independently verified.\",\n",
    "      \"bias_indicators\": \"Reliance on single source without confirmation\"\n",
    "    }}\n",
    "  ],\n",
    "  \"type\": \"Hard News\",\n",
    "  \"topic\": \"War & Conflict\",\n",
    "  \"publish_date\": \"2024-06-02\",\n",
    "  \"source\": \"BBC News\",\n",
    "  \"summary\": \"The article reports ongoing violence and humanitarian aid distribution issues in Gaza...\",\n",
    "  \"bias_analysis\": \"The article presents accusations without definitive verification and highlights criticism of GHF.\",\n",
    "  \"bias_indicators\": \"Loaded terms like 'cowardly murderers', one-sided statements from GHF\",\n",
    "  \"keywords\": [\"Hamas\", \"GHF\", \"Aid Distribution\", \"Gaza Violence\", \"Humanitarian Crisis\"],\n",
    "  \"keyword_summaries\": {{\n",
    "    \"Hamas\": \"Allegations of attacks and interference with aid distribution.\",\n",
    "    \"GHF\": \"A newly formed aid group under scrutiny.\",\n",
    "    \"Aid Distribution\": \"The central challenge amid violence and logistical issues.\",\n",
    "    \"Gaza Violence\": \"Ongoing civilian casualties during aid efforts.\",\n",
    "    \"Humanitarian Crisis\": \"Describes worsening conditions and failed coordination.\"\n",
    "  }}\n",
    "}}\n",
    "\n",
    "**Content Integrity Requirements:**\n",
    "- Do not generate, infer, or assume any information that is not explicitly stated in the article.\n",
    "- Do not hallucinate names, dates, events, motivations, outcomes, statistics, or quotes.\n",
    "- If specific information (e.g., location, date, subject) is not provided, use empty strings (`\"\"`), `null`, or `[]` as appropriate.\n",
    "- All extracted content must be strictly grounded in the source article text.\n",
    "\n",
    "\"\"\"\n"
   ],
   "id": "4b9b7222a0f247bd",
   "outputs": [],
   "execution_count": 30
  },
  {
   "metadata": {
    "ExecuteTime": {
     "end_time": "2025-08-07T16:53:47.749141Z",
     "start_time": "2025-08-07T16:53:47.744888Z"
    }
   },
   "cell_type": "code",
   "source": [
    "article_text = \"\"\"\n",
    "Aug. 7, 2025 11:49 am by The Right Scoop\n",
    "\n",
    "CNN is reporting that the FBI is now firing both senior officials and agents who opposed President Trump in the past, and that includes the former acting FBI Director who didn’t want the agency to reveal the names of agents who worked on the J6 cases.\n",
    "\n",
    "Here’s more:\n",
    "\n",
    "    Two senior FBI officials, including one who initially resisted the Trump administration’s effort to gather the names of agents who worked on cases related to the US Capitol attack on January 6, 2021, are being fired, multiple sources tell CNN.\n",
    "\n",
    "    Brian Driscoll, who was acting FBI director in the weeks before now-Director Kash Patel was confirmed, is being dismissed, sources said. Steve Jensen, the acting director in charge of the Washington Field Office, is also being fired, according to two separate sources.\n",
    "\n",
    "    The administration is also firing other agents in the bureau this week who were perceived to be opposed to Trump in the past, according to three sources familiar with the agency’s actions.\n",
    "\n",
    "    The FBI and its Washington field office declined to comment. CNN has reached out to the New York field office for comment.\n",
    "\n",
    "I believe I read earlier this year that a new administration must wait around six months before they can fire employees, which is why they began firing probationary employees first. I’m guessing this is why these officials and agents are only now getting the boot.\n",
    "\n",
    "But kudos to Director Patel for doing this, because it must be done.\n",
    "\n",
    "\"\"\""
   ],
   "id": "5bac0a2159bc4f10",
   "outputs": [],
   "execution_count": 31
  },
  {
   "metadata": {
    "ExecuteTime": {
     "end_time": "2025-08-07T16:54:13.361552Z",
     "start_time": "2025-08-07T16:53:47.797519Z"
    }
   },
   "cell_type": "code",
   "source": [
    "response = client.chat.completions.create(\n",
    "    model= \"gpt-4\",\n",
    "    messages=[\n",
    "        {\"role\": \"system\", \"content\": system_prompt},\n",
    "        {\"role\": \"user\", \"content\": article_text}\n",
    "    ]\n",
    ")"
   ],
   "id": "26a511add11e3aa0",
   "outputs": [],
   "execution_count": 32
  },
  {
   "metadata": {
    "ExecuteTime": {
     "end_time": "2025-08-07T16:54:13.430119Z",
     "start_time": "2025-08-07T16:54:13.425228Z"
    }
   },
   "cell_type": "code",
   "source": [
    "response_dict = response.model_dump()\n",
    "content = response_dict['choices'][0]['message']['content']\n",
    "\n",
    "# Parse content string as JSON\n",
    "parsed_json = json.loads(content)\n",
    "\n",
    "# Pretty-print it\n",
    "print(json.dumps(parsed_json, indent=2))"
   ],
   "id": "6538c80ed9f20465",
   "outputs": [
    {
     "name": "stdout",
     "output_type": "stream",
     "text": [
      "{\n",
      "  \"facts\": [\n",
      "    {\n",
      "      \"fact\": \"The FBI fired multiple senior officials and agents who opposed President Trump U.S. 2025-08-07\",\n",
      "      \"datetime\": \"2025-08-07\",\n",
      "      \"location\": \"U.S.\",\n",
      "      \"bias_analysis\": \"The fact is reported from a source and confirmed by multiple others. Contextual language suggests bias towards the Trump administration's actions.\",\n",
      "      \"bias_indicators\": [\n",
      "        \"opposed President Trump\"\n",
      "      ]\n",
      "    },\n",
      "    {\n",
      "      \"fact\": \"Brian Driscoll was the acting FBI director U.S. 2025-08-07\",\n",
      "      \"datetime\": \"2025-08-07\",\n",
      "      \"location\": \"U.S.\",\n",
      "      \"bias_analysis\": \"This fact is neutrally presented with no apparent bias.\",\n",
      "      \"bias_indicators\": []\n",
      "    },\n",
      "    {\n",
      "      \"fact\": \"Brian Driscoll was dismissed U.S. 2025-08-07\",\n",
      "      \"datetime\": \"2025-08-07\",\n",
      "      \"location\": \"U.S.\",\n",
      "      \"bias_analysis\": \"The fact is reported from a source and confirmed by multiple others. No clear bias is detected.\",\n",
      "      \"bias_indicators\": []\n",
      "    },\n",
      "    {\n",
      "      \"fact\": \"Steve Jensen was fired U.S. 2025-08-07\",\n",
      "      \"datetime\": \"2025-08-07\",\n",
      "      \"location\": \"U.S.\",\n",
      "      \"bias_analysis\": \"The fact is reported from a source and confirmed by multiple others. No clear bias is detected.\",\n",
      "      \"bias_indicators\": []\n",
      "    }\n",
      "  ],\n",
      "  \"type\": \"Hard News\",\n",
      "  \"topic\": \"Politics\",\n",
      "  \"publish_date\": \"2025-08-07\",\n",
      "  \"source\": \"The Right Scoop\",\n",
      "  \"summary\": \"The FBI is reportedly firing senior officials and agents who opposed President Trump in the past, including former acting FBI Director Brian Driscoll and the acting director in charge of the Washington Field Office, Steve Jensen. This comes after an administrative waiting period of six months. The reasons behind these actions are not clear.\",\n",
      "  \"bias_analysis\": \"The article presents a narrative that supports the actions of the Trump administration, suggesting bias towards that narrative. The author explicitly commends the firing actions, indicating personal agreement.\",\n",
      "  \"bias_indicators\": [\n",
      "    \"kudos to Director Patel\",\n",
      "    \"because it must be done\"\n",
      "  ],\n",
      "  \"keywords\": [\n",
      "    \"FBI\",\n",
      "    \"President Trump\",\n",
      "    \"Opposition Firings\",\n",
      "    \"Brian Driscoll\",\n",
      "    \"Steve Jensen\"\n",
      "  ],\n",
      "  \"keyword_summaries\": {\n",
      "    \"FBI\": \"Refers to the US Federal Bureau of Investigation involved in the mass firing of agents and officials.\",\n",
      "    \"President Trump\": \"The apparent factor in the FBI firings. Agents and officials who had opposed Trump are being dismissed.\",\n",
      "    \"Opposition Firings\": \"Refers to the dismissal of officials and agents considered to have been opposed to President Trump.\",\n",
      "    \"Brian Driscoll\": \"Former acting FBI director who is among those dismissed by the FBI.\",\n",
      "    \"Steve Jensen\": \"Acting director in charge of the Washington Field Office who is also among those fired.\"\n",
      "  }\n",
      "}\n"
     ]
    }
   ],
   "execution_count": 33
  },
  {
   "metadata": {
    "ExecuteTime": {
     "end_time": "2025-08-07T16:54:13.479137Z",
     "start_time": "2025-08-07T16:54:13.476924Z"
    }
   },
   "cell_type": "code",
   "source": "",
   "id": "d38cb37f99a36acb",
   "outputs": [],
   "execution_count": null
  }
 ],
 "metadata": {
  "kernelspec": {
   "display_name": "Python 3",
   "language": "python",
   "name": "python3"
  },
  "language_info": {
   "codemirror_mode": {
    "name": "ipython",
    "version": 2
   },
   "file_extension": ".py",
   "mimetype": "text/x-python",
   "name": "python",
   "nbconvert_exporter": "python",
   "pygments_lexer": "ipython2",
   "version": "2.7.6"
  }
 },
 "nbformat": 4,
 "nbformat_minor": 5
}
